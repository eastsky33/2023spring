{
  "nbformat": 4,
  "nbformat_minor": 0,
  "metadata": {
    "colab": {
      "provenance": [],
      "include_colab_link": true
    },
    "kernelspec": {
      "name": "python3",
      "display_name": "Python 3"
    },
    "language_info": {
      "name": "python"
    }
  },
  "cells": [
    {
      "cell_type": "markdown",
      "metadata": {
        "id": "view-in-github",
        "colab_type": "text"
      },
      "source": [
        "<a href=\"https://colab.research.google.com/github/eastsky33/2023spring/blob/main/class2023Fall_0929.ipynb\" target=\"_parent\"><img src=\"https://colab.research.google.com/assets/colab-badge.svg\" alt=\"Open In Colab\"/></a>"
      ]
    },
    {
      "cell_type": "markdown",
      "source": [
        "# Table of Contents\n",
        "1. [Lecture 1: Reading from and Writing to Files](#lecture1)\n",
        "2. [Lecture 2: Working with Different File Formats (text, CSV, JSON)](#lecture2)\n",
        "3. [Lecture 3: Error Handling and Exception Handling in Python](#lecture3)\n",
        "4. [Lecture 4: Try-Except Blocks and Handling Specific Exceptions](#lecture4)\n",
        "\n",
        "<a name=\"lecture1\"></a>\n",
        "# Lecture 1: Reading from and Writing to Files\n",
        "\n",
        "## Introduction\n",
        "- Importance of file handling\n",
        "- Different modes of file handling\n",
        "\n",
        "## Reading from Files\n",
        "\n",
        "Example:\n",
        "```python\n",
        "# Using open() function\n",
        "with open('sample.txt', 'r') as file:\n",
        "    content = file.read()\n",
        "    print(content)\n",
        "\n",
        "# Using readline() method\n",
        "with open('sample.txt', 'r') as file:\n",
        "    line = file.readline()\n",
        "    print(line)\n",
        "\n",
        "# Using readlines() method\n",
        "with open('sample.txt', 'r') as file:\n",
        "    lines = file.readlines()\n",
        "    for line in lines:\n",
        "        print(line)\n",
        "```\n",
        "\n",
        "## Writing to Files\n",
        "\n",
        "Example:\n",
        "```python\n",
        "# Using write() method\n",
        "with open('sample.txt', 'w') as file:\n",
        "    file.write('Hello World!')\n",
        "\n",
        "# Using writelines() method\n",
        "data = ['Hello', 'World', '!']\n",
        "with open('sample.txt', 'w') as file:\n",
        "    file.writelines(data)\n",
        "```\n",
        "\n",
        "---\n",
        "\n",
        "<a name=\"lecture2\"></a>\n",
        "# Lecture 2: Working with Different File Formats (text, CSV, JSON)\n",
        "\n",
        "## Introduction\n",
        "- Different file formats\n",
        "- Use-cases for text, CSV, and JSON file formats\n",
        "\n",
        "## Working with CSV Files\n",
        "\n",
        "Example:\n",
        "```python\n",
        "import csv\n",
        "\n",
        "# Reading from CSV files\n",
        "with open('sample.csv', 'r') as file:\n",
        "    reader = csv.reader(file)\n",
        "    for row in reader:\n",
        "        print(row)\n",
        "\n",
        "# Writing to CSV files\n",
        "data = [['Name', 'Age'], ['John', 30], ['Doe', 25]]\n",
        "with open('sample.csv', 'w', newline='') as file:\n",
        "    writer = csv.writer(file)\n",
        "    writer.writerows(data)\n",
        "```\n",
        "\n",
        "## Working with JSON Files\n",
        "\n",
        "Example:\n",
        "```python\n",
        "import json\n",
        "\n",
        "# Reading a JSON file\n",
        "with open('sample.json', 'r') as file:\n",
        "    data = json.load(file)\n",
        "    print(data)\n",
        "\n",
        "# Writing to a JSON file\n",
        "data = {'Name': 'John', 'Age': 30}\n",
        "with open('sample.json', 'w') as file:\n",
        "    json.dump(data, file)\n",
        "```\n",
        "\n",
        "---\n",
        "\n",
        "<a name=\"lecture3\"></a>\n",
        "# Lecture 3: Error Handling and Exception Handling in Python\n",
        "\n",
        "## Introduction\n",
        "- Importance of error and exception handling\n",
        "\n",
        "## Handling Exceptions\n",
        "\n",
        "Example:\n",
        "```python\n",
        "# Using try and except blocks\n",
        "try:\n",
        "    result = 10 / 0\n",
        "except ZeroDivisionError:\n",
        "    print(\"You can't divide by zero!\")\n",
        "```\n",
        "\n",
        "---\n",
        "\n",
        "<a name=\"lecture4\"></a>\n",
        "# Lecture 4: Try-Except Blocks and Handling Specific Exceptions\n",
        "\n",
        "## Introduction\n",
        "- Deep dive into try-except blocks\n",
        "\n",
        "## Using Try-Except Blocks\n",
        "\n",
        "Example:\n",
        "```python\n",
        "# Basic usage of try-except blocks\n",
        "try:\n",
        "    result = 10 / 0\n",
        "except ZeroDivisionError:\n",
        "    print(\"You can't divide by zero!\")\n",
        "\n",
        "# Using else clause\n",
        "try:\n",
        "    result = 10 / 2\n",
        "except ZeroDivisionError:\n",
        "    print(\"You can't divide by zero!\")\n",
        "else:\n",
        "    print(f\"The result is {result}\")\n",
        "\n",
        "# Using finally clause\n",
        "try:\n",
        "    result = 10 / 0\n",
        "except ZeroDivisionError:\n",
        "    print(\"You can't divide by zero!\")\n",
        "finally:\n",
        "    print(\"This block will execute no matter what.\")\n",
        "```"
      ],
      "metadata": {
        "id": "Krh48DIfeTde"
      }
    },
    {
      "cell_type": "code",
      "source": [
        "# Using finally clause\n",
        "try:\n",
        "    result = 10 / 0\n",
        "except ZeroDivisionError:\n",
        "    print(\"You can't divide by zero!\")\n",
        "finally:\n",
        "    print(\"This block will execute no matter what.\")\n",
        "#finally는 resource clean up\n",
        "\n",
        "\n",
        "\n",
        "\n",
        "\n",
        "try:\n",
        "    file = open('samples.csv', 'r')\n",
        "except FileNotFoundError:\n",
        "    print(\"File not found!\")\n",
        "finally:\n",
        "    file.close()\n",
        "print(\"exit\")"
      ],
      "metadata": {
        "id": "2_6JFEYH0Jd4",
        "outputId": "182d05d2-64d7-4280-e850-05e9599e27ee",
        "colab": {
          "base_uri": "https://localhost:8080/"
        }
      },
      "execution_count": 24,
      "outputs": [
        {
          "output_type": "stream",
          "name": "stdout",
          "text": [
            "You can't divide by zero!\n",
            "This block will execute no matter what.\n",
            "File not found!\n",
            "exit\n"
          ]
        }
      ]
    },
    {
      "cell_type": "code",
      "source": [
        "# Using try and except blocks\n",
        "try:\n",
        "    result = 10 / 0\n",
        "except Exception as errorHandle:\n",
        "    print(errorHandle)\n",
        "    print(\"You can't divide by zero!\")\n"
      ],
      "metadata": {
        "id": "nje-0afAxyjv",
        "outputId": "55b014c4-74c5-4e90-df95-8911a0bcadeb",
        "colab": {
          "base_uri": "https://localhost:8080/"
        }
      },
      "execution_count": 19,
      "outputs": [
        {
          "output_type": "stream",
          "name": "stdout",
          "text": [
            "division by zero\n",
            "You can't divide by zero!\n"
          ]
        }
      ]
    },
    {
      "cell_type": "code",
      "source": [
        "def divide_numbers(a, b):\n",
        "    try:\n",
        "        result = a / b\n",
        "        return result\n",
        "    except ZeroDivisionError:\n",
        "          print (\"Error: Cannot divide by zero!, but this is minor issue, so we are just passing...\")\n",
        "\n",
        "print(divide_numbers(10, 4))\n",
        "print(divide_numbers(10, 0))\n",
        "print(divide_numbers(10, 3))"
      ],
      "metadata": {
        "id": "xX3zpS9Y3AhY",
        "outputId": "453a2cc1-c65e-4c93-ecae-793e65b1f22e",
        "colab": {
          "base_uri": "https://localhost:8080/"
        }
      },
      "execution_count": 18,
      "outputs": [
        {
          "output_type": "stream",
          "name": "stdout",
          "text": [
            "2.5\n",
            "Error: Cannot divide by zero!, but this is minor issue, so we are just passing...\n",
            "None\n",
            "3.3333333333333335\n"
          ]
        }
      ]
    },
    {
      "cell_type": "code",
      "source": [
        "import csv\n",
        "import json\n",
        "\n",
        "\n",
        "# Writing to CSV files\n",
        "data = [['Name', 'Age'], ['John', 30], ['Doe', 25]]\n",
        "with open('sample.csv', 'w') as file:\n",
        "    writer = csv.writer(file)\n",
        "    writer.writerows(data)\n",
        "\n",
        "# Reading from CSV files\n",
        "with open('sample.csv', 'r') as file:\n",
        "    reader = csv.reader(file)\n",
        "    for row in reader:\n",
        "        print(row)\n",
        "\n",
        "#그냥 읽기\n",
        "with open('sample.csv', 'r') as file:\n",
        "    print(f\"raw printing: {file.readlines()}\")\n",
        "\n",
        "# Writing to a JSON file\n",
        "data = {'Name': 'John', 'Age': 30}\n",
        "with open('sample.json', 'w') as file:\n",
        "    json.dump(data, file)\n",
        "\n",
        "# Reading a JSON file\n",
        "with open('sample.json', 'r') as file:\n",
        "    data = json.load(file)\n",
        "    print(data)\n",
        "\n",
        "#그냥 읽기\n",
        "with open('sample.json', 'r') as file:\n",
        "    print(f\"raw printing: {file.readlines()}\")\n"
      ],
      "metadata": {
        "id": "ho99j8sdrj6G",
        "outputId": "2be5e53a-4400-436a-8a05-bb3704dd3efa",
        "colab": {
          "base_uri": "https://localhost:8080/"
        }
      },
      "execution_count": 11,
      "outputs": [
        {
          "output_type": "stream",
          "name": "stdout",
          "text": [
            "['Name', 'Age']\n",
            "['John', '30']\n",
            "['Doe', '25']\n",
            "raw printing: ['Name,Age\\n', 'John,30\\n', 'Doe,25\\n']\n",
            "{'Name': 'John', 'Age': 30}\n",
            "raw printing: ['{\"Name\": \"John\", \"Age\": 30}']\n"
          ]
        }
      ]
    },
    {
      "cell_type": "code",
      "source": [
        "# Using write() method\n",
        "with open('sample.txt', 'w') as filehandle:\n",
        "    filehandle.write('Hello World!')\n",
        "\n",
        "filehandle = open('sample.txt', 'a')\n",
        "filehandle.write('Hello World!')\n",
        "filehandle.close()\n",
        "\n",
        "with open('sample.txt', 'r') as filehandle:\n",
        "    content = filehandle.read()\n",
        "    print(content)\n",
        "\n",
        "# Using writelines() method\n",
        "data = ['Hello', 'World', '!']\n",
        "with open('sample.txt', 'a') as filehandle:\n",
        "  for d in data:\n",
        "    filehandle.write(d)\n",
        "\n",
        "with open('sample.txt', 'r') as filehandle:\n",
        "    content = filehandle.read()\n",
        "    print(content)\n"
      ],
      "metadata": {
        "id": "_kPdah0kkgYR",
        "outputId": "d2cd0a14-a9f0-430a-c1b0-1eeec823b4cb",
        "colab": {
          "base_uri": "https://localhost:8080/"
        }
      },
      "execution_count": 5,
      "outputs": [
        {
          "output_type": "stream",
          "name": "stdout",
          "text": [
            "Hello World!Hello World!\n",
            "Hello World!Hello World!HelloWorld!\n"
          ]
        }
      ]
    },
    {
      "cell_type": "code",
      "source": [
        "# Using open() function\n",
        "with open('sample.txt', 'r') as file:\n",
        "    content = file.read()\n",
        "    print(content)\n",
        "\n",
        "# Using readline() method\n",
        "with open('sample.txt', 'r') as file:\n",
        "    line = file.readline()\n",
        "    print(line)\n",
        "\n",
        "# Using readlines() method\n",
        "with open('sample.txt', 'r') as file:\n",
        "    lines = file.readlines()\n",
        "    for line in lines:\n",
        "        print(line)"
      ],
      "metadata": {
        "id": "8-gP62wCjfbX",
        "outputId": "15dea110-34cb-43e3-9335-e1cd811d1705",
        "colab": {
          "base_uri": "https://localhost:8080/",
          "height": 258
        }
      },
      "execution_count": 1,
      "outputs": [
        {
          "output_type": "error",
          "ename": "FileNotFoundError",
          "evalue": "ignored",
          "traceback": [
            "\u001b[0;31m---------------------------------------------------------------------------\u001b[0m",
            "\u001b[0;31mFileNotFoundError\u001b[0m                         Traceback (most recent call last)",
            "\u001b[0;32m<ipython-input-1-78d95357861a>\u001b[0m in \u001b[0;36m<cell line: 2>\u001b[0;34m()\u001b[0m\n\u001b[1;32m      1\u001b[0m \u001b[0;31m# Using open() function\u001b[0m\u001b[0;34m\u001b[0m\u001b[0;34m\u001b[0m\u001b[0m\n\u001b[0;32m----> 2\u001b[0;31m \u001b[0;32mwith\u001b[0m \u001b[0mopen\u001b[0m\u001b[0;34m(\u001b[0m\u001b[0;34m'sample.txt'\u001b[0m\u001b[0;34m,\u001b[0m \u001b[0;34m'r'\u001b[0m\u001b[0;34m)\u001b[0m \u001b[0;32mas\u001b[0m \u001b[0mfile\u001b[0m\u001b[0;34m:\u001b[0m\u001b[0;34m\u001b[0m\u001b[0;34m\u001b[0m\u001b[0m\n\u001b[0m\u001b[1;32m      3\u001b[0m     \u001b[0mcontent\u001b[0m \u001b[0;34m=\u001b[0m \u001b[0mfile\u001b[0m\u001b[0;34m.\u001b[0m\u001b[0mread\u001b[0m\u001b[0;34m(\u001b[0m\u001b[0;34m)\u001b[0m\u001b[0;34m\u001b[0m\u001b[0;34m\u001b[0m\u001b[0m\n\u001b[1;32m      4\u001b[0m     \u001b[0mprint\u001b[0m\u001b[0;34m(\u001b[0m\u001b[0mcontent\u001b[0m\u001b[0;34m)\u001b[0m\u001b[0;34m\u001b[0m\u001b[0;34m\u001b[0m\u001b[0m\n\u001b[1;32m      5\u001b[0m \u001b[0;34m\u001b[0m\u001b[0m\n",
            "\u001b[0;31mFileNotFoundError\u001b[0m: [Errno 2] No such file or directory: 'sample.txt'"
          ]
        }
      ]
    }
  ]
}